{
 "cells": [
  {
   "cell_type": "markdown",
   "metadata": {
    "id": "1Gg3qE3vUF8h"
   },
   "source": [
    "**QUES 1**"
   ]
  },
  {
   "cell_type": "code",
   "execution_count": null,
   "metadata": {
    "colab": {
     "base_uri": "https://localhost:8080/"
    },
    "executionInfo": {
     "elapsed": 456,
     "status": "ok",
     "timestamp": 1736443380380,
     "user": {
      "displayName": "DAKSH JAIN",
      "userId": "13125282695969052871"
     },
     "user_tz": -330
    },
    "id": "BmflJSjboMpH",
    "outputId": "9332584d-d55a-4fff-971b-129942d7a28d"
   },
   "outputs": [
    {
     "name": "stdout",
     "output_type": "stream",
     "text": [
      "welcome\n"
     ]
    }
   ],
   "source": [
    "print(\"welcome\")"
   ]
  },
  {
   "cell_type": "markdown",
   "metadata": {
    "id": "h6t3DiH8T6jJ"
   },
   "source": [
    "\n",
    "\n",
    "---\n",
    "\n"
   ]
  },
  {
   "cell_type": "markdown",
   "metadata": {
    "id": "ta-19kfxUMr-"
   },
   "source": [
    "**QUES 2**"
   ]
  },
  {
   "cell_type": "code",
   "execution_count": null,
   "metadata": {
    "colab": {
     "base_uri": "https://localhost:8080/"
    },
    "executionInfo": {
     "elapsed": 431,
     "status": "ok",
     "timestamp": 1736443466145,
     "user": {
      "displayName": "DAKSH JAIN",
      "userId": "13125282695969052871"
     },
     "user_tz": -330
    },
    "id": "_kAYu39AF_jD",
    "outputId": "21529b91-34b3-4bfb-fe81-fc4dc5fb9638"
   },
   "outputs": [
    {
     "name": "stdout",
     "output_type": "stream",
     "text": [
      "22\n"
     ]
    }
   ],
   "source": [
    "a=2;\n",
    "b=20;\n",
    "\n",
    "print(a+b)"
   ]
  },
  {
   "cell_type": "code",
   "execution_count": null,
   "metadata": {
    "colab": {
     "base_uri": "https://localhost:8080/"
    },
    "executionInfo": {
     "elapsed": 378,
     "status": "ok",
     "timestamp": 1736443528773,
     "user": {
      "displayName": "DAKSH JAIN",
      "userId": "13125282695969052871"
     },
     "user_tz": -330
    },
    "id": "pgvFJcR-GA4g",
    "outputId": "2692a44b-76b8-4a59-ef6d-8ccb610287b4"
   },
   "outputs": [
    {
     "name": "stdout",
     "output_type": "stream",
     "text": [
      "Daksh Jain\n"
     ]
    }
   ],
   "source": [
    "fname=\"Daksh\";\n",
    "lname=\"Jain\";\n",
    "\n",
    "print(fname+\" \"+lname);"
   ]
  },
  {
   "cell_type": "code",
   "execution_count": null,
   "metadata": {
    "colab": {
     "base_uri": "https://localhost:8080/"
    },
    "executionInfo": {
     "elapsed": 426,
     "status": "ok",
     "timestamp": 1736443689666,
     "user": {
      "displayName": "DAKSH JAIN",
      "userId": "13125282695969052871"
     },
     "user_tz": -330
    },
    "id": "839cV1zDGZyi",
    "outputId": "d8d8d823-729c-4c7e-f367-e8387e3ef6a3"
   },
   "outputs": [
    {
     "name": "stdout",
     "output_type": "stream",
     "text": [
      "congratulations on securing 1 position\n"
     ]
    }
   ],
   "source": [
    "wish=\"congratulations\";\n",
    "pos=1;\n",
    "\n",
    "print(wish+\" on securing \"+str(pos)+\" position\");"
   ]
  },
  {
   "cell_type": "markdown",
   "metadata": {
    "id": "AVtiK9YaUXIb"
   },
   "source": [
    "\n",
    "\n",
    "---"
   ]
  },
  {
   "cell_type": "markdown",
   "metadata": {
    "id": "XkDRWTvvUhOs"
   },
   "source": [
    "**QUES 3**"
   ]
  },
  {
   "cell_type": "code",
   "execution_count": null,
   "metadata": {
    "colab": {
     "base_uri": "https://localhost:8080/"
    },
    "executionInfo": {
     "elapsed": 6064,
     "status": "ok",
     "timestamp": 1736443851358,
     "user": {
      "displayName": "DAKSH JAIN",
      "userId": "13125282695969052871"
     },
     "user_tz": -330
    },
    "id": "vva1vT6qG_ac",
    "outputId": "84774f9a-8768-4a30-b197-b807af8bb045"
   },
   "outputs": [
    {
     "name": "stdout",
     "output_type": "stream",
     "text": [
      "enter value to check-10\n",
      "negative\n"
     ]
    }
   ],
   "source": [
    "x=int(input(\"enter value to check\"))\n",
    "if(x>0):\n",
    "  print(\"positive\")\n",
    "elif(x==0):\n",
    "  print(\"zero\")\n",
    "else:\n",
    "  print(\"negative\")"
   ]
  },
  {
   "cell_type": "code",
   "execution_count": null,
   "metadata": {
    "colab": {
     "base_uri": "https://localhost:8080/"
    },
    "executionInfo": {
     "elapsed": 3869,
     "status": "ok",
     "timestamp": 1736444428737,
     "user": {
      "displayName": "DAKSH JAIN",
      "userId": "13125282695969052871"
     },
     "user_tz": -330
    },
    "id": "Ma2W2-S0Hdam",
    "outputId": "c47c8e2d-8fd9-42b2-d477-e73c2b7dbcf9"
   },
   "outputs": [
    {
     "name": "stdout",
     "output_type": "stream",
     "text": [
      "enter value 23\n",
      "its odd\n"
     ]
    }
   ],
   "source": [
    "y=int(input(\"enter value \"))\n",
    "if(y%2==0):\n",
    "  print(\"its even\");\n",
    "else:\n",
    "  print(\"its odd\");"
   ]
  },
  {
   "cell_type": "markdown",
   "metadata": {
    "id": "4DjYAibdUnwu"
   },
   "source": [
    "\n",
    "\n",
    "---\n",
    "\n"
   ]
  },
  {
   "cell_type": "markdown",
   "metadata": {
    "id": "dStWDKftUpMI"
   },
   "source": [
    "**QUES 4**"
   ]
  },
  {
   "cell_type": "code",
   "execution_count": null,
   "metadata": {
    "colab": {
     "base_uri": "https://localhost:8080/"
    },
    "executionInfo": {
     "elapsed": 382,
     "status": "ok",
     "timestamp": 1736444889595,
     "user": {
      "displayName": "DAKSH JAIN",
      "userId": "13125282695969052871"
     },
     "user_tz": -330
    },
    "id": "791PBiXVJzAb",
    "outputId": "ba4a33a4-e137-41bb-efc7-2923193f369e"
   },
   "outputs": [
    {
     "name": "stdout",
     "output_type": "stream",
     "text": [
      "1\n",
      "2\n",
      "3\n",
      "4\n",
      "5\n",
      "6\n",
      "7\n",
      "8\n",
      "9\n",
      "10\n"
     ]
    }
   ],
   "source": [
    "for i in range(1,11):\n",
    "  print(i)"
   ]
  },
  {
   "cell_type": "code",
   "execution_count": null,
   "metadata": {
    "colab": {
     "base_uri": "https://localhost:8080/"
    },
    "executionInfo": {
     "elapsed": 370,
     "status": "ok",
     "timestamp": 1736444986079,
     "user": {
      "displayName": "DAKSH JAIN",
      "userId": "13125282695969052871"
     },
     "user_tz": -330
    },
    "id": "VIJij52XLgf0",
    "outputId": "adf46c6e-3c0a-4fa6-dafb-a545eff33c15"
   },
   "outputs": [
    {
     "name": "stdout",
     "output_type": "stream",
     "text": [
      "1\n",
      "2\n",
      "3\n",
      "4\n",
      "5\n",
      "6\n",
      "7\n",
      "8\n",
      "9\n",
      "10\n",
      "loop finished\n"
     ]
    }
   ],
   "source": [
    "i=1\n",
    "while(i<=10):\n",
    "  print(i)\n",
    "  i+=1\n",
    "else:\n",
    "  print(\"loop finished\");"
   ]
  },
  {
   "cell_type": "code",
   "execution_count": null,
   "metadata": {
    "colab": {
     "base_uri": "https://localhost:8080/"
    },
    "executionInfo": {
     "elapsed": 390,
     "status": "ok",
     "timestamp": 1736445121021,
     "user": {
      "displayName": "DAKSH JAIN",
      "userId": "13125282695969052871"
     },
     "user_tz": -330
    },
    "id": "jSrFsx88L1ZA",
    "outputId": "ab31d072-a3a0-4b36-d390-35ae5714db81"
   },
   "outputs": [
    {
     "name": "stdout",
     "output_type": "stream",
     "text": [
      "the sum is  5050\n"
     ]
    }
   ],
   "source": [
    "sum=0\n",
    "for i in range(101):\n",
    "  sum+=i\n",
    "else:\n",
    "  print(\"the sum is \",sum)"
   ]
  },
  {
   "cell_type": "markdown",
   "metadata": {
    "id": "YI24iky4UvUD"
   },
   "source": [
    "\n",
    "\n",
    "---\n",
    "\n"
   ]
  },
  {
   "cell_type": "markdown",
   "metadata": {
    "id": "NaOHcx1jUwn0"
   },
   "source": [
    "**QUES 5**"
   ]
  },
  {
   "cell_type": "code",
   "execution_count": null,
   "metadata": {
    "colab": {
     "base_uri": "https://localhost:8080/"
    },
    "executionInfo": {
     "elapsed": 421,
     "status": "ok",
     "timestamp": 1736445992486,
     "user": {
      "displayName": "DAKSH JAIN",
      "userId": "13125282695969052871"
     },
     "user_tz": -330
    },
    "id": "pIR5unbdMRrc",
    "outputId": "58a03858-2e92-4a9f-e48d-0bd6fb217034"
   },
   "outputs": [
    {
     "name": "stdout",
     "output_type": "stream",
     "text": [
      "20 2\n"
     ]
    }
   ],
   "source": [
    "list1=[10,2,3,20,15]\n",
    "#a=max(list1)\n",
    "#b=min(list1)\n",
    "a=b=list1[0]\n",
    "for val in list1:\n",
    "  if(val>a):\n",
    "    a=val\n",
    "  if(val<b):\n",
    "    b=val\n",
    "\n",
    "print(a,b)"
   ]
  },
  {
   "cell_type": "code",
   "execution_count": null,
   "metadata": {
    "colab": {
     "base_uri": "https://localhost:8080/"
    },
    "executionInfo": {
     "elapsed": 4191,
     "status": "ok",
     "timestamp": 1736514019727,
     "user": {
      "displayName": "DAKSH JAIN",
      "userId": "13125282695969052871"
     },
     "user_tz": -330
    },
    "id": "FVDZiWa-Mvyv",
    "outputId": "c7228c32-5cab-454a-f26a-d8270e987ef9"
   },
   "outputs": [
    {
     "name": "stdout",
     "output_type": "stream",
     "text": [
      "the key of needed infoNmae\n",
      "key doesnt exist\n"
     ]
    }
   ],
   "source": [
    "obj={\n",
    "    \"name\":\"Daksh Jain\",\n",
    "    \"Group\":\"2Q25\",\n",
    "    \"Roll No.\": 102497020,\n",
    "    \"CGPA\":10\n",
    "}\n",
    "KEYS=obj.keys()\n",
    "key=input(\"the key of needed info\")\n",
    "x=0\n",
    "for val in KEYS:\n",
    "  if(key==val):\n",
    "    x=1\n",
    "    print(obj[key])\n",
    "else:\n",
    "  if(x==0):\n",
    "    print(\"key doesnt exist\");\n",
    "\n"
   ]
  },
  {
   "cell_type": "code",
   "execution_count": null,
   "metadata": {
    "colab": {
     "base_uri": "https://localhost:8080/"
    },
    "executionInfo": {
     "elapsed": 379,
     "status": "ok",
     "timestamp": 1736514856894,
     "user": {
      "displayName": "DAKSH JAIN",
      "userId": "13125282695969052871"
     },
     "user_tz": -330
    },
    "id": "fVZ-7WRJQ7AD",
    "outputId": "17b326d0-9da1-4c54-f205-65e251a300bb"
   },
   "outputs": [
    {
     "name": "stdout",
     "output_type": "stream",
     "text": [
      "[2, 5, 10, 25, 39]\n",
      "[39, 25, 10, 5, 2]\n"
     ]
    }
   ],
   "source": [
    "nlist=[10,39,25,5,2];\n",
    "nlist.sort()\n",
    "print(nlist);\n",
    "nlist.sort(reverse=1); #there is also a key function inside sort to\n",
    "print(nlist)           #sort the list by using given parameter such as\n",
    "                      #we can sort the list of strings on key=len"
   ]
  },
  {
   "cell_type": "code",
   "execution_count": null,
   "metadata": {
    "colab": {
     "base_uri": "https://localhost:8080/"
    },
    "executionInfo": {
     "elapsed": 378,
     "status": "ok",
     "timestamp": 1736515606118,
     "user": {
      "displayName": "DAKSH JAIN",
      "userId": "13125282695969052871"
     },
     "user_tz": -330
    },
    "id": "SRirSDHKTwv7",
    "outputId": "8170c1a0-05a5-43fa-cc96-48086c59e13e"
   },
   "outputs": [
    {
     "name": "stdout",
     "output_type": "stream",
     "text": [
      "[10, 5]\n"
     ]
    }
   ],
   "source": [
    "print(nlist[2:4])"
   ]
  },
  {
   "cell_type": "code",
   "execution_count": null,
   "metadata": {
    "id": "M304KAjuZWVu"
   },
   "outputs": [],
   "source": []
  },
  {
   "cell_type": "markdown",
   "metadata": {
    "id": "vWWe_scJZLVB"
   },
   "source": [
    "\n",
    "\n",
    "---\n",
    "\n"
   ]
  },
  {
   "cell_type": "markdown",
   "metadata": {
    "id": "4-473gYCZM8_"
   },
   "source": [
    "**QUES 6**\n"
   ]
  },
  {
   "cell_type": "code",
   "execution_count": 2,
   "metadata": {
    "colab": {
     "base_uri": "https://localhost:8080/"
    },
    "executionInfo": {
     "elapsed": 400,
     "status": "ok",
     "timestamp": 1736570142733,
     "user": {
      "displayName": "DAKSH JAIN",
      "userId": "13125282695969052871"
     },
     "user_tz": -330
    },
    "id": "HBLnE4CrTks-",
    "outputId": "6e1348a8-1fdb-4d85-94c8-7811968ddcc9"
   },
   "outputs": [
    {
     "name": "stdout",
     "output_type": "stream",
     "text": [
      "no of vowels are  3\n"
     ]
    }
   ],
   "source": [
    "name=\"DAKSH JAIN\";\n",
    "count=0\n",
    "for x in name:\n",
    "  if(x=='A' or x=='E' or x=='I' or x=='O' or x=='U' or x=='a'or x=='e' or x=='i' or x=='o' or x=='u'):\n",
    "    count+=1\n",
    "else:\n",
    "  print(\"no of vowels are \",count)"
   ]
  },
  {
   "cell_type": "code",
   "execution_count": 3,
   "metadata": {
    "colab": {
     "base_uri": "https://localhost:8080/"
    },
    "executionInfo": {
     "elapsed": 446,
     "status": "ok",
     "timestamp": 1736571349843,
     "user": {
      "displayName": "DAKSH JAIN",
      "userId": "13125282695969052871"
     },
     "user_tz": -330
    },
    "id": "6QEXnynWpQGJ",
    "outputId": "289969ff-e1f5-4577-cee4-d7f27c0970e9"
   },
   "outputs": [
    {
     "name": "stdout",
     "output_type": "stream",
     "text": [
      "gab\n"
     ]
    }
   ],
   "source": [
    "name=\"bag\"\n",
    "\n",
    "reversedstr='';\n",
    "for x in name:\n",
    "  reversedstr=x+reversedstr\n",
    "\n",
    "print(reversedstr)\n"
   ]
  },
  {
   "cell_type": "code",
   "execution_count": 5,
   "metadata": {
    "colab": {
     "base_uri": "https://localhost:8080/"
    },
    "executionInfo": {
     "elapsed": 410,
     "status": "ok",
     "timestamp": 1736571942544,
     "user": {
      "displayName": "DAKSH JAIN",
      "userId": "13125282695969052871"
     },
     "user_tz": -330
    },
    "id": "HDIGR5tVt-Ew",
    "outputId": "d6dae7e6-bc02-46c0-8690-0460de7c406f"
   },
   "outputs": [
    {
     "name": "stdout",
     "output_type": "stream",
     "text": [
      "its palindrome\n"
     ]
    }
   ],
   "source": [
    "name=\"nitin\"\n",
    "\n",
    "reversedstr='';\n",
    "for x in name:\n",
    "  reversedstr=x+reversedstr\n",
    "\n",
    "if reversedstr==name:\n",
    "  print(\"its palindrome\")\n",
    "else:\n",
    "  print(\"not palindrome\")"
   ]
  },
  {
   "cell_type": "markdown",
   "metadata": {
    "id": "ym2wYXgowY90"
   },
   "source": [
    "\n",
    "\n",
    "---\n",
    "\n"
   ]
  },
  {
   "cell_type": "markdown",
   "metadata": {
    "id": "ThKDzTwGwRGO"
   },
   "source": [
    "**QUES 7**"
   ]
  },
  {
   "cell_type": "code",
   "execution_count": 1,
   "metadata": {
    "colab": {
     "base_uri": "https://localhost:8080/"
    },
    "executionInfo": {
     "elapsed": 419,
     "status": "ok",
     "timestamp": 1736590666558,
     "user": {
      "displayName": "DAKSH JAIN",
      "userId": "13125282695969052871"
     },
     "user_tz": -330
    },
    "id": "tZL9stdjwMip",
    "outputId": "607411fd-c227-440d-a307-abb1fa6e837d"
   },
   "outputs": [
    {
     "name": "stdout",
     "output_type": "stream",
     "text": [
      "Do it now !\n"
     ]
    }
   ],
   "source": [
    "f=open(\"test.txt\",\"w\")\n",
    "f.write(\"Do it now !\")\n",
    "f.close()\n",
    "\n",
    "f=open(\"test.txt\",\"r\")\n",
    "print(f.read())\n",
    "f.close()\n"
   ]
  },
  {
   "cell_type": "code",
   "execution_count": 3,
   "metadata": {
    "colab": {
     "base_uri": "https://localhost:8080/"
    },
    "executionInfo": {
     "elapsed": 388,
     "status": "ok",
     "timestamp": 1736591842571,
     "user": {
      "displayName": "DAKSH JAIN",
      "userId": "13125282695969052871"
     },
     "user_tz": -330
    },
    "id": "mVBjUfzT3rTz",
    "outputId": "0fd2cc2f-e657-4ad1-e27a-a5af9f2a0438"
   },
   "outputs": [
    {
     "name": "stdout",
     "output_type": "stream",
     "text": [
      "Do it now !new content is added.new content is added.\n"
     ]
    }
   ],
   "source": [
    "f=open(\"test.txt\",\"a\")\n",
    "f.write(\"new content is added.\")\n",
    "f.close()\n",
    "\n",
    "f=open(\"test.txt\",\"r\")\n",
    "print(f.read())\n",
    "f.close()"
   ]
  },
  {
   "cell_type": "code",
   "execution_count": 4,
   "metadata": {
    "colab": {
     "base_uri": "https://localhost:8080/"
    },
    "executionInfo": {
     "elapsed": 377,
     "status": "ok",
     "timestamp": 1736591987103,
     "user": {
      "displayName": "DAKSH JAIN",
      "userId": "13125282695969052871"
     },
     "user_tz": -330
    },
    "id": "HfyqpiLj4J7v",
    "outputId": "f669f96d-e9d5-495b-ad83-7c6782884e5c"
   },
   "outputs": [
    {
     "name": "stdout",
     "output_type": "stream",
     "text": [
      "2\n"
     ]
    }
   ],
   "source": [
    "\n",
    "f=open(\"test.txt\",\"r\")\n",
    "count=0\n",
    "line=f.read()\n",
    "for x in line:\n",
    "  if(x==\".\"):\n",
    "    count+=1\n",
    "\n",
    "print(count)\n",
    "f.close()"
   ]
  },
  {
   "cell_type": "markdown",
   "metadata": {
    "id": "TWcwX3Moylzc"
   },
   "source": [
    "\n",
    "\n",
    "---\n",
    "\n"
   ]
  },
  {
   "cell_type": "markdown",
   "metadata": {
    "id": "vD4o1MGRyn2-"
   },
   "source": [
    "**QUES 8**"
   ]
  },
  {
   "cell_type": "code",
   "execution_count": 6,
   "metadata": {
    "colab": {
     "base_uri": "https://localhost:8080/"
    },
    "executionInfo": {
     "elapsed": 7066,
     "status": "ok",
     "timestamp": 1736572818052,
     "user": {
      "displayName": "DAKSH JAIN",
      "userId": "13125282695969052871"
     },
     "user_tz": -330
    },
    "id": "GQBDb6gzym4e",
    "outputId": "b55211e9-26ae-48f4-babe-d23e2cd37bf3"
   },
   "outputs": [
    {
     "name": "stdout",
     "output_type": "stream",
     "text": [
      "enter numerator2\n",
      "enter denominator0\n",
      "invalid value of denominator\n"
     ]
    }
   ],
   "source": [
    "a=int(input(\"enter numerator\"))\n",
    "b=int (input(\"enter denominator\"))\n",
    "\n",
    "try:\n",
    "  print(a//b)\n",
    "except:\n",
    "  print(\"invalid value of denominator\")\n",
    "\n",
    "\n"
   ]
  },
  {
   "cell_type": "code",
   "execution_count": 12,
   "metadata": {
    "colab": {
     "base_uri": "https://localhost:8080/"
    },
    "executionInfo": {
     "elapsed": 5778,
     "status": "ok",
     "timestamp": 1736573313232,
     "user": {
      "displayName": "DAKSH JAIN",
      "userId": "13125282695969052871"
     },
     "user_tz": -330
    },
    "id": "2Z4Wvz66zjRb",
    "outputId": "035e66a4-39fb-480a-81d9-d1199f194a34"
   },
   "outputs": [
    {
     "name": "stdout",
     "output_type": "stream",
     "text": [
      "enter number#@#\n",
      "input is not a number \n"
     ]
    }
   ],
   "source": [
    "a=input(\"enter number\")\n",
    "try:\n",
    "  a=int(a)\n",
    "except:\n",
    "  print(\"input is not a number \")\n",
    "else:\n",
    "  print(a);"
   ]
  },
  {
   "cell_type": "code",
   "execution_count": 13,
   "metadata": {
    "colab": {
     "base_uri": "https://localhost:8080/"
    },
    "executionInfo": {
     "elapsed": 3145,
     "status": "ok",
     "timestamp": 1736573934140,
     "user": {
      "displayName": "DAKSH JAIN",
      "userId": "13125282695969052871"
     },
     "user_tz": -330
    },
    "id": "fQu8Khy80T7m",
    "outputId": "42740417-f44c-427b-b964-03d66edc4b96"
   },
   "outputs": [
    {
     "name": "stdout",
     "output_type": "stream",
     "text": [
      "enter number0\n",
      "invalid value of a\n",
      "execution complete\n",
      "0\n"
     ]
    }
   ],
   "source": [
    "a=int(input(\"enter number\"))\n",
    "try:\n",
    "  b=200/a;\n",
    "except:\n",
    "  print(\"invalid value of a\")\n",
    "finally:\n",
    "  print(\"execution complete\")\n",
    "  print(a);"
   ]
  },
  {
   "cell_type": "markdown",
   "metadata": {
    "id": "ritO8y5s37Om"
   },
   "source": [
    "\n",
    "\n",
    "---\n",
    "\n"
   ]
  },
  {
   "cell_type": "markdown",
   "metadata": {
    "id": "e-3mKm8038pK"
   },
   "source": [
    "**QUES 9**"
   ]
  },
  {
   "cell_type": "code",
   "execution_count": 18,
   "metadata": {
    "colab": {
     "base_uri": "https://localhost:8080/"
    },
    "executionInfo": {
     "elapsed": 396,
     "status": "ok",
     "timestamp": 1736574476988,
     "user": {
      "displayName": "DAKSH JAIN",
      "userId": "13125282695969052871"
     },
     "user_tz": -330
    },
    "id": "9o8g5jbi30tx",
    "outputId": "40fdb419-e0c3-4ade-9712-9ddf6a053f66"
   },
   "outputs": [
    {
     "name": "stdout",
     "output_type": "stream",
     "text": [
      "[93, 99, 55, 74, 3]\n"
     ]
    }
   ],
   "source": [
    "import random\n",
    "list1=[]\n",
    "for x in range(5):\n",
    "    list1.append(random.randint(1,100))\n",
    "\n",
    "print(list1);\n",
    "\n"
   ]
  },
  {
   "cell_type": "code",
   "execution_count": 24,
   "metadata": {
    "colab": {
     "base_uri": "https://localhost:8080/"
    },
    "executionInfo": {
     "elapsed": 395,
     "status": "ok",
     "timestamp": 1736574748883,
     "user": {
      "displayName": "DAKSH JAIN",
      "userId": "13125282695969052871"
     },
     "user_tz": -330
    },
    "id": "YNtkg7Yx59OB",
    "outputId": "c81087b8-6d92-4bc4-e86e-5fd6f791d83a"
   },
   "outputs": [
    {
     "name": "stdout",
     "output_type": "stream",
     "text": [
      "the no is  97\n",
      "the no is prime\n"
     ]
    }
   ],
   "source": [
    "import random\n",
    "\n",
    "x=random.randint(1,200)\n",
    "n=int(x/2)\n",
    "print(\"the no is \",x)\n",
    "for a in range(2,n):\n",
    "  if(x%a==0):\n",
    "    print(\"no is not prime\")\n",
    "    break\n",
    "else:\n",
    "  print(\"the no is prime\")"
   ]
  },
  {
   "cell_type": "code",
   "execution_count": 31,
   "metadata": {
    "colab": {
     "base_uri": "https://localhost:8080/"
    },
    "executionInfo": {
     "elapsed": 3238,
     "status": "ok",
     "timestamp": 1736575346292,
     "user": {
      "displayName": "DAKSH JAIN",
      "userId": "13125282695969052871"
     },
     "user_tz": -330
    },
    "id": "V2Q5qcBo8noK",
    "outputId": "baef29a7-1ab0-4714-ac32-fcc967da15bc"
   },
   "outputs": [
    {
     "name": "stdout",
     "output_type": "stream",
     "text": [
      "enter no of exp3\n",
      "0 st experiment :  3\n",
      "1 st experiment :  3\n",
      "2 st experiment :  2\n"
     ]
    }
   ],
   "source": [
    "import random\n",
    "\n",
    "n=int(input(\"enter no of exp\"))\n",
    "\n",
    "for x in range(n):\n",
    "  a=random.randint(1,6)\n",
    "  print(x,\"st experiment : \",a)\n",
    "\n"
   ]
  },
  {
   "cell_type": "code",
   "execution_count": 26,
   "metadata": {
    "colab": {
     "base_uri": "https://localhost:8080/"
    },
    "executionInfo": {
     "elapsed": 363,
     "status": "ok",
     "timestamp": 1736574835825,
     "user": {
      "displayName": "DAKSH JAIN",
      "userId": "13125282695969052871"
     },
     "user_tz": -330
    },
    "id": "irQ7M3il4rWd",
    "outputId": "98bdb933-d528-4dde-c695-214918571e13"
   },
   "outputs": [
    {
     "name": "stdout",
     "output_type": "stream",
     "text": [
      "[30, 10, 40, 20, 50]\n"
     ]
    }
   ],
   "source": [
    "import random\n",
    "listn=[10,20,30,40,50]\n",
    "\n",
    "random.shuffle(listn)\n",
    "\n",
    "print(listn)"
   ]
  },
  {
   "cell_type": "code",
   "execution_count": 28,
   "metadata": {
    "colab": {
     "base_uri": "https://localhost:8080/"
    },
    "executionInfo": {
     "elapsed": 410,
     "status": "ok",
     "timestamp": 1736574921494,
     "user": {
      "displayName": "DAKSH JAIN",
      "userId": "13125282695969052871"
     },
     "user_tz": -330
    },
    "id": "9ap82LVk7Qdr",
    "outputId": "cd1ec1e4-17ca-4b76-fdf3-02bf9b28ae99"
   },
   "outputs": [
    {
     "name": "stdout",
     "output_type": "stream",
     "text": [
      "10.34\n"
     ]
    }
   ],
   "source": [
    "import random\n",
    "listn=[10,\"daksh\",30,10.34,\"@#@#\"]\n",
    "\n",
    "x=random.choice(listn)\n",
    "\n",
    "print(x)"
   ]
  },
  {
   "cell_type": "code",
   "execution_count": 30,
   "metadata": {
    "colab": {
     "base_uri": "https://localhost:8080/"
    },
    "executionInfo": {
     "elapsed": 2086,
     "status": "ok",
     "timestamp": 1736575056816,
     "user": {
      "displayName": "DAKSH JAIN",
      "userId": "13125282695969052871"
     },
     "user_tz": -330
    },
    "id": "dtE-57Mb7lWb",
    "outputId": "ba0de3a3-e8bb-4cd4-e0e9-6d6c54df11cf"
   },
   "outputs": [
    {
     "name": "stdout",
     "output_type": "stream",
     "text": [
      "enter length of password6\n",
      "680532\n"
     ]
    }
   ],
   "source": [
    "import random\n",
    "\n",
    "password=''\n",
    "l=int(input(\"enter length of password\"))\n",
    "for x in range(l):\n",
    "  password+=str(random.randint(0,9))\n",
    "\n",
    "print(password)\n"
   ]
  },
  {
   "cell_type": "code",
   "execution_count": 32,
   "metadata": {
    "colab": {
     "base_uri": "https://localhost:8080/"
    },
    "executionInfo": {
     "elapsed": 430,
     "status": "ok",
     "timestamp": 1736576791609,
     "user": {
      "displayName": "DAKSH JAIN",
      "userId": "13125282695969052871"
     },
     "user_tz": -330
    },
    "id": "9ihaSMxx8FWO",
    "outputId": "5a7ad835-21ae-4db9-ba0d-9cf15fff4b5e"
   },
   "outputs": [
    {
     "name": "stdout",
     "output_type": "stream",
     "text": [
      "club 8\n"
     ]
    }
   ],
   "source": [
    "import random\n",
    "cardlist=[\"heart\",\"diamond\",\"club\",\"spade\"]\n",
    "number=['A',2,3,4,5,6,7,8,9,10,'J','Q','K']\n",
    "\n",
    "a=random.choice(cardlist)\n",
    "b=random.choice(number)\n",
    "\n",
    "print(a+\" \"+str(b))"
   ]
  },
  {
   "cell_type": "markdown",
   "metadata": {
    "id": "VsyXooXHnE7U"
   },
   "source": [
    "\n",
    "\n",
    "---\n",
    "\n"
   ]
  },
  {
   "cell_type": "markdown",
   "metadata": {
    "id": "3QRFeQhlnQbS"
   },
   "source": [
    "**QUES 11**"
   ]
  },
  {
   "cell_type": "code",
   "execution_count": 39,
   "metadata": {
    "colab": {
     "base_uri": "https://localhost:8080/"
    },
    "executionInfo": {
     "elapsed": 2925,
     "status": "ok",
     "timestamp": 1736586856194,
     "user": {
      "displayName": "DAKSH JAIN",
      "userId": "13125282695969052871"
     },
     "user_tz": -330
    },
    "id": "fTBwGlX7omSk",
    "outputId": "901385d5-cadc-4d59-d393-f64a57929aea"
   },
   "outputs": [
    {
     "name": "stdout",
     "output_type": "stream",
     "text": [
      "enter the no 23\n",
      "square root is :  4.795831523312719\n"
     ]
    }
   ],
   "source": [
    "import math\n",
    "n=int(input(\"enter the no \"))\n",
    "x=math.sqrt(n);\n",
    "\n",
    "print (\"square root is : \",x)"
   ]
  },
  {
   "cell_type": "code",
   "execution_count": 38,
   "metadata": {
    "colab": {
     "base_uri": "https://localhost:8080/"
    },
    "executionInfo": {
     "elapsed": 366,
     "status": "ok",
     "timestamp": 1736586675787,
     "user": {
      "displayName": "DAKSH JAIN",
      "userId": "13125282695969052871"
     },
     "user_tz": -330
    },
    "id": "nsGEx1wUnXxD",
    "outputId": "82ae2acb-c1ab-4284-b702-4d6944d9cf3e"
   },
   "outputs": [
    {
     "name": "stdout",
     "output_type": "stream",
     "text": [
      "2025-01-11 09:11:15.781294\n",
      "11\n"
     ]
    }
   ],
   "source": [
    "import datetime\n",
    "\n",
    "x=datetime.datetime.now()\n",
    "print(x)\n",
    "\n",
    "print(x.strftime(\"%d\"))"
   ]
  },
  {
   "cell_type": "code",
   "execution_count": 5,
   "metadata": {
    "colab": {
     "base_uri": "https://localhost:8080/"
    },
    "executionInfo": {
     "elapsed": 386,
     "status": "ok",
     "timestamp": 1736590646366,
     "user": {
      "displayName": "DAKSH JAIN",
      "userId": "13125282695969052871"
     },
     "user_tz": -330
    },
    "id": "bC5Z9wJEoM_C",
    "outputId": "22b83501-b259-4736-cea4-0cf2d89ed251"
   },
   "outputs": [
    {
     "name": "stdout",
     "output_type": "stream",
     "text": [
      "d:\\UCS712_cognitive\n",
      "['.git', 'ASSIGNMENT1.ipynb', 'ques10.py', 'test.txt', 'Untitled0 (1).ipynb']\n"
     ]
    }
   ],
   "source": [
    "import os\n",
    "\n",
    "cwd=os.getcwd()\n",
    "print(cwd)\n",
    "dirlist=os.listdir(cwd);\n",
    "print(dirlist)"
   ]
  }
 ],
 "metadata": {
  "colab": {
   "authorship_tag": "ABX9TyMy4lA5ciRfai0PcoTqTreF",
   "provenance": []
  },
  "kernelspec": {
   "display_name": "Python 3",
   "name": "python3"
  },
  "language_info": {
   "codemirror_mode": {
    "name": "ipython",
    "version": 3
   },
   "file_extension": ".py",
   "mimetype": "text/x-python",
   "name": "python",
   "nbconvert_exporter": "python",
   "pygments_lexer": "ipython3",
   "version": "3.13.1"
  }
 },
 "nbformat": 4,
 "nbformat_minor": 0
}
