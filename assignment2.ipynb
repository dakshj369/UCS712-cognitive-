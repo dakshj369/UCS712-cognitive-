{
 "cells": [
  {
   "cell_type": "code",
   "execution_count": 3,
   "metadata": {},
   "outputs": [
    {
     "name": "stdout",
     "output_type": "stream",
     "text": [
      "[10, 20, 30, 40, 50, 60, 70, 80, 200, 300]\n",
      "[20, 40, 50, 60, 70, 80, 200, 300]\n",
      "[300, 200, 80, 70, 60, 50, 40, 20]\n"
     ]
    }
   ],
   "source": [
    "listn=[10,20,30,40,50,60,70,80]\n",
    "\n",
    "#  WAP to add 200 and 300 to L.\n",
    "listn.append(200)\n",
    "listn.append(300)\n",
    "print(listn)\n",
    "\n",
    "#  WAP to remove 10 and 30 from L.\n",
    "listn.remove(10)\n",
    "listn.remove(30)\n",
    "\n",
    "#  WAP to sort L in ascending order.\n",
    "listn.sort()\n",
    "print(listn)\n",
    "\n",
    "#  WAP to sort L in descending order\n",
    "listn.sort(reverse=True)\n",
    "print(listn)\n"
   ]
  },
  {
   "cell_type": "code",
   "execution_count": 14,
   "metadata": {},
   "outputs": [
    {
     "name": "stdout",
     "output_type": "stream",
     "text": [
      "max marks 92\n",
      "lowest marks45 and count is 2\n",
      "[45, 89.5, 76, 45.4, 89, 92, 58, 45]\n",
      "not\n"
     ]
    }
   ],
   "source": [
    "mymarks=(45,89.5,76,45.4,89,92,58,45)\n",
    "\n",
    "# Identify the highest score and its index in the tuple.\n",
    "highs=max(mymarks)\n",
    "ind=mymarks.index(highs);\n",
    "\n",
    "print(f\"max marks {highs}\")\n",
    "\n",
    "# Find the lowest score and count how many times it appears. \n",
    "low=min(mymarks);\n",
    "cl=0\n",
    "for x in mymarks:\n",
    "    if(x==low):\n",
    "        cl+=1\n",
    "\n",
    "print(f'lowest marks{low} and count is {cl}')\n",
    "\n",
    "# Reverse the tuple and return it as a list. \n",
    "\n",
    "reversedt=mymarks[:]\n",
    "listm=list(reversedt);\n",
    "print(listm)\n",
    "\n",
    "# Check if a specific score ‘76’ (input by the user) is present in the tuple and\n",
    "# print its first occurrence index, or a message saying it’s not present. \n",
    "\n",
    "\n",
    "check=int(input(\"enter the number\"))\n",
    "if check in mymarks:\n",
    "    print(\"present\")\n",
    "else:\n",
    "    print(\"not\")\n"
   ]
  },
  {
   "cell_type": "code",
   "execution_count": 8,
   "metadata": {},
   "outputs": [
    {
     "name": "stdout",
     "output_type": "stream",
     "text": [
      "248\n",
      "726\n",
      "170\n",
      "348\n",
      "the even count is 4\n",
      "109\n",
      "891\n",
      "157\n",
      "281\n",
      "641\n",
      "351\n",
      "the odd count is 6\n",
      "109\n",
      "the total prime is  1\n"
     ]
    }
   ],
   "source": [
    "from random import *\n",
    "randoml=[];\n",
    "\n",
    "for x in range(10):\n",
    "    y=randint(100,900)\n",
    "    randoml.append(y)\n",
    "ce=0\n",
    "co=0\n",
    "#count and print All even numbers \n",
    "for a in randoml:\n",
    "    if(a%2==0):\n",
    "        print(a);\n",
    "        ce+=1;\n",
    "print(\"the even count is\",ce) \n",
    "\n",
    "#count and print All odd numbers \n",
    "for a in randoml:\n",
    "    if(a%2!=0):\n",
    "        print(a);\n",
    "        co+=1;\n",
    "print(\"the odd count is\",co) \n",
    "\n",
    "#count and print All prime numbers \n",
    "flag=0\n",
    "cp=0\n",
    "for a in randoml:\n",
    "    for p in range(2,a):\n",
    "        if(a%p==0):\n",
    "            flag=1;\n",
    "            break;\n",
    "    if(flag==0):\n",
    "        print(a)\n",
    "        cp+=1\n",
    "\n",
    "print(\"the total prime is \",cp);\n",
    "\n",
    "\n"
   ]
  },
  {
   "cell_type": "code",
   "execution_count": 18,
   "metadata": {},
   "outputs": [
    {
     "name": "stdout",
     "output_type": "stream",
     "text": [
      "{34, 45, 78, 23, 56, 90}\n",
      "{90, 78}\n",
      "{34, 45, 23, 56}\n",
      "A is a subset of B: False\n",
      "B is a superset of A: False\n"
     ]
    }
   ],
   "source": [
    "A={34,56,78,90}\n",
    "B={78,45,90,23}\n",
    "\n",
    "uniquescore=A|B\n",
    "print(uniquescore)\n",
    "\n",
    "common=A&B\n",
    "print(common)\n",
    "\n",
    "exclusive=A^B\n",
    "print(exclusive)\n",
    "\n",
    "First =  A.issubset(B)\n",
    "Second = B.issuperset(A)\n",
    "print(f'A is a subset of B: {First}')\n",
    "print(f'B is a superset of A: {Second}')\n",
    "\n",
    "score=int(input(\"enter score to be removed :\"))\n",
    "\n",
    "if score in A:\n",
    "    A.remove(score)\n",
    "    print(f'element removed')\n",
    "else:\n",
    "    print(f'the score not present ')\n",
    "\n",
    "\n",
    "\n"
   ]
  },
  {
   "cell_type": "code",
   "execution_count": 19,
   "metadata": {},
   "outputs": [
    {
     "name": "stdout",
     "output_type": "stream",
     "text": [
      "{'population': 8419600, 'area': 468.9, 'location': 'New York'}\n"
     ]
    }
   ],
   "source": [
    "data={\n",
    "    \"city\":\"New York\",\n",
    "    \"population\":8419600,\n",
    "    \"area\":468.9\n",
    "}\n",
    "data[\"location\"]=data[\"city\"]\n",
    "data.pop(\"city\")\n",
    "\n",
    "print(data);"
   ]
  }
 ],
 "metadata": {
  "kernelspec": {
   "display_name": "Python 3",
   "language": "python",
   "name": "python3"
  },
  "language_info": {
   "codemirror_mode": {
    "name": "ipython",
    "version": 3
   },
   "file_extension": ".py",
   "mimetype": "text/x-python",
   "name": "python",
   "nbconvert_exporter": "python",
   "pygments_lexer": "ipython3",
   "version": "3.13.1"
  }
 },
 "nbformat": 4,
 "nbformat_minor": 2
}
